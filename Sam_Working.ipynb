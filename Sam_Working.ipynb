{
 "cells": [
  {
   "attachments": {},
   "cell_type": "markdown",
   "metadata": {},
   "source": [
    "# <center>CMSC320 Final Project - The Musk Effect</center>\n",
    "\n",
    "<center>Michael Reeve and Sambit Sahoo</center>\n",
    "\n",
    "## Introduction\n",
    "\n",
    "In the age of social media and industry, Elon Musk has had a significant impact on our society. Unlike most CEOs, Elon Musk takes a more millennial-style approach and has a large social media presence. His Twitter account, @elonmusk, has over 120 million followers. Do Elon Musk’s tweets mainly have positive, negative, or neutral connotations? We will take a closer look at a dataset we found on Kaggle and data from our own data scraping using Twitter's API to examine the effect of Elon Musk’s tweets.\n",
    "\n",
    "There are two specific timeframes we would like to investigate thoroughly. On April 4th, 2022, Elon Musk disclosed his stake in Twitter and Twitter announced that he would be joining the board of directors. During this time, did Elon Musk have positive sentiments with his tweets? The second timeframe is around October 28th, 2022. Elon Musk announced that he finalized a deal to acquire Twitter and begin internal processes that led to strife within the company due to layoffs and other reasons.\n",
    "\n",
    "This tutorial will guide you through the analysis of Elon Musk’s Twitter data and we will investigate to answer two key questions:\n",
    "- tmp\n",
    "- tmp2"
   ]
  },
  {
   "cell_type": "code",
   "execution_count": 1,
   "metadata": {},
   "outputs": [],
   "source": [
    "# imports\n",
    "import os\n",
    "from dotenv import load_dotenv\n",
    "import requests\n",
    "import pandas as pd\n",
    "import numpy as np\n",
    "import matplotlib.pyplot as plt\n",
    "from datetime import date as dt, timedelta\n",
    "import string\n",
    "import nltk\n",
    "import ssl\n",
    "try:\n",
    "    _create_unverified_https_context = ssl._create_unverified_context\n",
    "except AttributeError:\n",
    "    pass\n",
    "else:\n",
    "    ssl._create_default_https_context = _create_unverified_https_context\n",
    "nltk.download([\n",
    "\"names\",\n",
    "\"stopwords\",\n",
    "\"state_union\",\n",
    "\"twitter_samples\",\n",
    "\"movie_reviews\",\n",
    "\"averaged_perceptron_tagger\",\n",
    "\"vader_lexicon\",\n",
    "\"punkt\",\n",
    "], quiet=True)\n",
    "from nltk.corpus import stopwords\n",
    "from wordcloud import WordCloud\n",
    "import re"
   ]
  },
  {
   "attachments": {},
   "cell_type": "markdown",
   "metadata": {},
   "source": [
    "## Data Collection\n",
    "\n",
    "For data collection, we decided to combine two methods. First, we found a dataset on Kaggle containing Elon Musk’s tweets from January 27th, 2022 to October 27th, 2022. Additionally, we data scraped data using Twitter’s API to get data from October 20th, 2022 to December 12th, 2022. We noticed that the tweets from October 20th, 2022 to October 27th, 2022 from the Kaggle dataset had fewer likes and retweets mainly because of the time the data was pulled, so it hasn’t updated to the number of likes and retweets his tweets currently have. The likes and retweets are much higher now than presented in the dataset, so we removed that data and used our data scraped information to replace it. Now, we have a dataset containing tweets from the Twitter API from October 20th, 2022 to December 11th, 2022 and tweets from Kaggle, spanning from January 27th, 2022 to October 19th, 2022.\n",
    "\n",
    "The data collected from data scraping contained information regarding the unfiltered tweet, the date and time the tweet was created, the number of likes, and the number of retweets. The data collected from the Kaggle dataset included the unfiltered tweets, the number of retweets, the number of likes, the date and time of the tweet, and the cleaned tweet."
   ]
  },
  {
   "cell_type": "code",
   "execution_count": 2,
   "metadata": {},
   "outputs": [
    {
     "data": {
      "text/html": [
       "<div>\n",
       "<style scoped>\n",
       "    .dataframe tbody tr th:only-of-type {\n",
       "        vertical-align: middle;\n",
       "    }\n",
       "\n",
       "    .dataframe tbody tr th {\n",
       "        vertical-align: top;\n",
       "    }\n",
       "\n",
       "    .dataframe thead th {\n",
       "        text-align: right;\n",
       "    }\n",
       "</style>\n",
       "<table border=\"1\" class=\"dataframe\">\n",
       "  <thead>\n",
       "    <tr style=\"text-align: right;\">\n",
       "      <th></th>\n",
       "      <th>Tweets</th>\n",
       "      <th>Retweets</th>\n",
       "      <th>Likes</th>\n",
       "      <th>Date</th>\n",
       "      <th>Cleaned_Tweets</th>\n",
       "    </tr>\n",
       "  </thead>\n",
       "  <tbody>\n",
       "    <tr>\n",
       "      <th>0</th>\n",
       "      <td>@PeterSchiff 🤣 thanks</td>\n",
       "      <td>209</td>\n",
       "      <td>7021</td>\n",
       "      <td>2022-10-27 16:17:39</td>\n",
       "      <td>thanks</td>\n",
       "    </tr>\n",
       "    <tr>\n",
       "      <th>1</th>\n",
       "      <td>@ZubyMusic Absolutely</td>\n",
       "      <td>755</td>\n",
       "      <td>26737</td>\n",
       "      <td>2022-10-27 13:19:25</td>\n",
       "      <td>Absolutely</td>\n",
       "    </tr>\n",
       "    <tr>\n",
       "      <th>2</th>\n",
       "      <td>Dear Twitter Advertisers https://t.co/GMwHmInPAS</td>\n",
       "      <td>55927</td>\n",
       "      <td>356623</td>\n",
       "      <td>2022-10-27 13:08:00</td>\n",
       "      <td>Dear Twitter Advertisers</td>\n",
       "    </tr>\n",
       "    <tr>\n",
       "      <th>3</th>\n",
       "      <td>Meeting a lot of cool people at Twitter today!</td>\n",
       "      <td>9366</td>\n",
       "      <td>195546</td>\n",
       "      <td>2022-10-26 21:39:32</td>\n",
       "      <td>Meeting a lot of cool people at Twitter today!</td>\n",
       "    </tr>\n",
       "    <tr>\n",
       "      <th>4</th>\n",
       "      <td>Entering Twitter HQ – let that sink in! https:...</td>\n",
       "      <td>145520</td>\n",
       "      <td>1043592</td>\n",
       "      <td>2022-10-26 18:45:58</td>\n",
       "      <td>Entering Twitter HQ – let that sink in!</td>\n",
       "    </tr>\n",
       "    <tr>\n",
       "      <th>...</th>\n",
       "      <td>...</td>\n",
       "      <td>...</td>\n",
       "      <td>...</td>\n",
       "      <td>...</td>\n",
       "      <td>...</td>\n",
       "    </tr>\n",
       "    <tr>\n",
       "      <th>2663</th>\n",
       "      <td>@LimitingThe @baglino Just that manganese is a...</td>\n",
       "      <td>171</td>\n",
       "      <td>3173</td>\n",
       "      <td>2022-01-27 22:01:06</td>\n",
       "      <td>Just that manganese is an alternative to iron ...</td>\n",
       "    </tr>\n",
       "    <tr>\n",
       "      <th>2664</th>\n",
       "      <td>@incentives101 @ICRicardoLara Exactly</td>\n",
       "      <td>145</td>\n",
       "      <td>4234</td>\n",
       "      <td>2022-01-27 21:23:20</td>\n",
       "      <td>Exactly</td>\n",
       "    </tr>\n",
       "    <tr>\n",
       "      <th>2665</th>\n",
       "      <td>@ICRicardoLara Your policies are directly resp...</td>\n",
       "      <td>421</td>\n",
       "      <td>6144</td>\n",
       "      <td>2022-01-27 21:13:57</td>\n",
       "      <td>Your policies are directly responsible for the...</td>\n",
       "    </tr>\n",
       "    <tr>\n",
       "      <th>2666</th>\n",
       "      <td>@ICRicardoLara You should be voted out of office</td>\n",
       "      <td>484</td>\n",
       "      <td>7029</td>\n",
       "      <td>2022-01-27 21:12:27</td>\n",
       "      <td>You should be voted out of office</td>\n",
       "    </tr>\n",
       "    <tr>\n",
       "      <th>2667</th>\n",
       "      <td>CB radios are free from govt/media control</td>\n",
       "      <td>11302</td>\n",
       "      <td>113429</td>\n",
       "      <td>2022-01-27 21:00:09</td>\n",
       "      <td>CB radios are free from govt/media control</td>\n",
       "    </tr>\n",
       "  </tbody>\n",
       "</table>\n",
       "<p>2668 rows × 5 columns</p>\n",
       "</div>"
      ],
      "text/plain": [
       "                                                 Tweets  Retweets    Likes  \\\n",
       "0                                 @PeterSchiff 🤣 thanks       209     7021   \n",
       "1                                 @ZubyMusic Absolutely       755    26737   \n",
       "2      Dear Twitter Advertisers https://t.co/GMwHmInPAS     55927   356623   \n",
       "3        Meeting a lot of cool people at Twitter today!      9366   195546   \n",
       "4     Entering Twitter HQ – let that sink in! https:...    145520  1043592   \n",
       "...                                                 ...       ...      ...   \n",
       "2663  @LimitingThe @baglino Just that manganese is a...       171     3173   \n",
       "2664              @incentives101 @ICRicardoLara Exactly       145     4234   \n",
       "2665  @ICRicardoLara Your policies are directly resp...       421     6144   \n",
       "2666   @ICRicardoLara You should be voted out of office       484     7029   \n",
       "2667         CB radios are free from govt/media control     11302   113429   \n",
       "\n",
       "                     Date                                     Cleaned_Tweets  \n",
       "0     2022-10-27 16:17:39                                             thanks  \n",
       "1     2022-10-27 13:19:25                                         Absolutely  \n",
       "2     2022-10-27 13:08:00                           Dear Twitter Advertisers  \n",
       "3     2022-10-26 21:39:32     Meeting a lot of cool people at Twitter today!  \n",
       "4     2022-10-26 18:45:58            Entering Twitter HQ – let that sink in!  \n",
       "...                   ...                                                ...  \n",
       "2663  2022-01-27 22:01:06  Just that manganese is an alternative to iron ...  \n",
       "2664  2022-01-27 21:23:20                                            Exactly  \n",
       "2665  2022-01-27 21:13:57  Your policies are directly responsible for the...  \n",
       "2666  2022-01-27 21:12:27                  You should be voted out of office  \n",
       "2667  2022-01-27 21:00:09         CB radios are free from govt/media control  \n",
       "\n",
       "[2668 rows x 5 columns]"
      ]
     },
     "execution_count": 2,
     "metadata": {},
     "output_type": "execute_result"
    }
   ],
   "source": [
    "kaggle_df = pd.read_csv(\"cleandata.csv\")\n",
    "kaggle_df"
   ]
  },
  {
   "attachments": {},
   "cell_type": "markdown",
   "metadata": {},
   "source": [
    "This dataset contains 5 columns, raw text (Tweets), Retweets, Likes, Date, and Cleaned Tweets. The date entries contain the time of day and we only care about the date, so let's strip the time from these entries."
   ]
  },
  {
   "cell_type": "code",
   "execution_count": 3,
   "metadata": {},
   "outputs": [
    {
     "data": {
      "text/html": [
       "<div>\n",
       "<style scoped>\n",
       "    .dataframe tbody tr th:only-of-type {\n",
       "        vertical-align: middle;\n",
       "    }\n",
       "\n",
       "    .dataframe tbody tr th {\n",
       "        vertical-align: top;\n",
       "    }\n",
       "\n",
       "    .dataframe thead th {\n",
       "        text-align: right;\n",
       "    }\n",
       "</style>\n",
       "<table border=\"1\" class=\"dataframe\">\n",
       "  <thead>\n",
       "    <tr style=\"text-align: right;\">\n",
       "      <th></th>\n",
       "      <th>Tweets</th>\n",
       "      <th>Retweets</th>\n",
       "      <th>Likes</th>\n",
       "      <th>Date</th>\n",
       "      <th>Cleaned_Tweets</th>\n",
       "    </tr>\n",
       "  </thead>\n",
       "  <tbody>\n",
       "    <tr>\n",
       "      <th>0</th>\n",
       "      <td>@PeterSchiff 🤣 thanks</td>\n",
       "      <td>209</td>\n",
       "      <td>7021</td>\n",
       "      <td>2022-10-27</td>\n",
       "      <td>thanks</td>\n",
       "    </tr>\n",
       "    <tr>\n",
       "      <th>1</th>\n",
       "      <td>@ZubyMusic Absolutely</td>\n",
       "      <td>755</td>\n",
       "      <td>26737</td>\n",
       "      <td>2022-10-27</td>\n",
       "      <td>Absolutely</td>\n",
       "    </tr>\n",
       "    <tr>\n",
       "      <th>2</th>\n",
       "      <td>Dear Twitter Advertisers https://t.co/GMwHmInPAS</td>\n",
       "      <td>55927</td>\n",
       "      <td>356623</td>\n",
       "      <td>2022-10-27</td>\n",
       "      <td>Dear Twitter Advertisers</td>\n",
       "    </tr>\n",
       "    <tr>\n",
       "      <th>3</th>\n",
       "      <td>Meeting a lot of cool people at Twitter today!</td>\n",
       "      <td>9366</td>\n",
       "      <td>195546</td>\n",
       "      <td>2022-10-26</td>\n",
       "      <td>Meeting a lot of cool people at Twitter today!</td>\n",
       "    </tr>\n",
       "    <tr>\n",
       "      <th>4</th>\n",
       "      <td>Entering Twitter HQ – let that sink in! https:...</td>\n",
       "      <td>145520</td>\n",
       "      <td>1043592</td>\n",
       "      <td>2022-10-26</td>\n",
       "      <td>Entering Twitter HQ – let that sink in!</td>\n",
       "    </tr>\n",
       "  </tbody>\n",
       "</table>\n",
       "</div>"
      ],
      "text/plain": [
       "                                              Tweets  Retweets    Likes  \\\n",
       "0                              @PeterSchiff 🤣 thanks       209     7021   \n",
       "1                              @ZubyMusic Absolutely       755    26737   \n",
       "2   Dear Twitter Advertisers https://t.co/GMwHmInPAS     55927   356623   \n",
       "3     Meeting a lot of cool people at Twitter today!      9366   195546   \n",
       "4  Entering Twitter HQ – let that sink in! https:...    145520  1043592   \n",
       "\n",
       "         Date                                  Cleaned_Tweets  \n",
       "0  2022-10-27                                          thanks  \n",
       "1  2022-10-27                                      Absolutely  \n",
       "2  2022-10-27                        Dear Twitter Advertisers  \n",
       "3  2022-10-26  Meeting a lot of cool people at Twitter today!  \n",
       "4  2022-10-26         Entering Twitter HQ – let that sink in!  "
      ]
     },
     "execution_count": 3,
     "metadata": {},
     "output_type": "execute_result"
    }
   ],
   "source": [
    "# convert date and time to just date\n",
    "kaggle_df[\"Date\"] = pd.to_datetime(kaggle_df[\"Date\"]).dt.date\n",
    "kaggle_df.head()"
   ]
  },
  {
   "cell_type": "code",
   "execution_count": 4,
   "metadata": {},
   "outputs": [
    {
     "name": "stdout",
     "output_type": "stream",
     "text": [
      "2022-01-27 2022-10-27\n"
     ]
    }
   ],
   "source": [
    "print(kaggle_df[\"Date\"].min(), kaggle_df[\"Date\"].max())"
   ]
  },
  {
   "attachments": {},
   "cell_type": "markdown",
   "metadata": {},
   "source": [
    "This dataset only contains tweets from 1/27-10/27. Let's use the Twitter API to pull tweets after 10/20 through 12/12 to add more data to analyze.\n",
    "\n",
    "The Kaggle dataset was compiled on 10/27, meaning the like and retweet counts are likely lower than what they would be today. We are assuming that most tweets approach a limit of likes and retweets after about a week of being posted. We are going to gather tweets from 10/20 onward and replace entries in the Kaggle dataset that overlap."
   ]
  },
  {
   "cell_type": "code",
   "execution_count": 5,
   "metadata": {},
   "outputs": [
    {
     "name": "stdout",
     "output_type": "stream",
     "text": [
      "1501 Tweets\n"
     ]
    },
    {
     "data": {
      "text/html": [
       "<div>\n",
       "<style scoped>\n",
       "    .dataframe tbody tr th:only-of-type {\n",
       "        vertical-align: middle;\n",
       "    }\n",
       "\n",
       "    .dataframe tbody tr th {\n",
       "        vertical-align: top;\n",
       "    }\n",
       "\n",
       "    .dataframe thead th {\n",
       "        text-align: right;\n",
       "    }\n",
       "</style>\n",
       "<table border=\"1\" class=\"dataframe\">\n",
       "  <thead>\n",
       "    <tr style=\"text-align: right;\">\n",
       "      <th></th>\n",
       "      <th>text</th>\n",
       "      <th>created_at</th>\n",
       "      <th>likes</th>\n",
       "      <th>retweets</th>\n",
       "    </tr>\n",
       "  </thead>\n",
       "  <tbody>\n",
       "    <tr>\n",
       "      <th>0</th>\n",
       "      <td>@Lukewearechange @AndrewPollackFL Accurate</td>\n",
       "      <td>2022-12-12T22:15:25.000Z</td>\n",
       "      <td>39121</td>\n",
       "      <td>2896</td>\n",
       "    </tr>\n",
       "    <tr>\n",
       "      <th>1</th>\n",
       "      <td>@BillyM2k Haha totally. High quality bots are ...</td>\n",
       "      <td>2022-12-12T21:40:20.000Z</td>\n",
       "      <td>11864</td>\n",
       "      <td>598</td>\n",
       "    </tr>\n",
       "    <tr>\n",
       "      <th>2</th>\n",
       "      <td>@rupasubramanya @TheFP Exactly</td>\n",
       "      <td>2022-12-12T21:34:51.000Z</td>\n",
       "      <td>35004</td>\n",
       "      <td>2399</td>\n",
       "    </tr>\n",
       "    <tr>\n",
       "      <th>3</th>\n",
       "      <td>@TRHLofficial @ggreenwald Indeed</td>\n",
       "      <td>2022-12-12T21:14:47.000Z</td>\n",
       "      <td>11748</td>\n",
       "      <td>661</td>\n",
       "    </tr>\n",
       "    <tr>\n",
       "      <th>4</th>\n",
       "      <td>@micsolana The wording is mine lol</td>\n",
       "      <td>2022-12-12T20:56:45.000Z</td>\n",
       "      <td>78744</td>\n",
       "      <td>2611</td>\n",
       "    </tr>\n",
       "  </tbody>\n",
       "</table>\n",
       "</div>"
      ],
      "text/plain": [
       "                                                text  \\\n",
       "0         @Lukewearechange @AndrewPollackFL Accurate   \n",
       "1  @BillyM2k Haha totally. High quality bots are ...   \n",
       "2                     @rupasubramanya @TheFP Exactly   \n",
       "3                   @TRHLofficial @ggreenwald Indeed   \n",
       "4                 @micsolana The wording is mine lol   \n",
       "\n",
       "                 created_at  likes  retweets  \n",
       "0  2022-12-12T22:15:25.000Z  39121      2896  \n",
       "1  2022-12-12T21:40:20.000Z  11864       598  \n",
       "2  2022-12-12T21:34:51.000Z  35004      2399  \n",
       "3  2022-12-12T21:14:47.000Z  11748       661  \n",
       "4  2022-12-12T20:56:45.000Z  78744      2611  "
      ]
     },
     "execution_count": 5,
     "metadata": {},
     "output_type": "execute_result"
    }
   ],
   "source": [
    "load_dotenv(\".env\")\n",
    "token = os.environ.get(\"BEARER_TOKEN\")\n",
    "headers = {\"Authorization\": \"Bearer {}\".format(token)}\n",
    "\n",
    "ELON_ID = \"44196397\"\n",
    "\n",
    "search_url = \"https://api.twitter.com/2/users/{}/tweets\".format(ELON_ID)\n",
    "\n",
    "query_params = {\n",
    "    'start_time': '2022-10-20T00:00:00Z', # Look at tweets after 10/20/22\n",
    "    'end_time': '2022-12-12T23:59:59Z', # Look at tweets before 12/13/22\n",
    "    'tweet.fields': 'text,created_at,public_metrics', # Retreive text of tweet, date posted, metrics(likes, retweets)\n",
    "    'max_results': 100, # get 100 tweets every request (this is the max Twitter allows)\n",
    "}\n",
    "\n",
    "api_df = pd.DataFrame()\n",
    "\n",
    "# because we cannot download all tweets at once, we will continue making requests using a technique called pagination (link me)\n",
    "next_token = \"\"\n",
    "while next_token is not None:\n",
    "    curr_params = query_params.copy()\n",
    "    if next_token != \"\":\n",
    "        curr_params['pagination_token'] = next_token\n",
    "\n",
    "    # make request to twitter api\n",
    "    res = requests.request(\"GET\", search_url, headers = headers, params = curr_params)\n",
    "    res_json = res.json()\n",
    "\n",
    "    # end of loop check - more on this below\n",
    "    if 'data' not in res_json:\n",
    "        next_token = None\n",
    "        continue\n",
    "    \n",
    "    # remove fields Twitter gives back to us that we don't need and de-construct metrics dict\n",
    "    tweets = res_json['data']\n",
    "    for t in tweets:\n",
    "        if 'edit_history_tweet_ids' in t:\n",
    "            del t['edit_history_tweet_ids']\n",
    "        if 'id' in t:\n",
    "            del t['id']\n",
    "        if 'public_metrics' in t:\n",
    "            metrics = t['public_metrics']\n",
    "            t['likes'] = metrics['like_count']\n",
    "            t['retweets'] = metrics['retweet_count']\n",
    "            del t['public_metrics']\n",
    "\n",
    "    # create dataframe out of current 100 tweets then add to cumulative df\n",
    "    curr_df = pd.DataFrame().from_dict(tweets)\n",
    "    api_df = pd.concat([api_df, curr_df])\n",
    "\n",
    "    # check if the next page exists, if not we end the loop by setting next_token to None\n",
    "    if 'meta' in res_json:\n",
    "        if 'next_token' in res_json['meta']:\n",
    "            next_token = res_json['meta']['next_token']\n",
    "        else:\n",
    "            next_token = None\n",
    "    else:\n",
    "        next_token = None\n",
    "\n",
    "print(len(api_df), \"Tweets\")\n",
    "api_df.head()"
   ]
  },
  {
   "cell_type": "code",
   "execution_count": 6,
   "metadata": {},
   "outputs": [
    {
     "name": "stdout",
     "output_type": "stream",
     "text": [
      "Min: 2022-10-20T00:10:14.000Z   Max: 2022-12-12T22:15:25.000Z\n"
     ]
    }
   ],
   "source": [
    "#confirm tweets from the proper date range were retrieved\n",
    "print(\"Min:\", api_df[\"created_at\"].min(), \"  Max:\", api_df[\"created_at\"].max()) "
   ]
  },
  {
   "attachments": {},
   "cell_type": "markdown",
   "metadata": {},
   "source": [
    "The Twitter API also pulls retweets from the given user, they are defined as the text starting with \"RT @\" and having 0 likes, let's see how many there are."
   ]
  },
  {
   "cell_type": "code",
   "execution_count": 7,
   "metadata": {},
   "outputs": [
    {
     "data": {
      "text/html": [
       "<div>\n",
       "<style scoped>\n",
       "    .dataframe tbody tr th:only-of-type {\n",
       "        vertical-align: middle;\n",
       "    }\n",
       "\n",
       "    .dataframe tbody tr th {\n",
       "        vertical-align: top;\n",
       "    }\n",
       "\n",
       "    .dataframe thead th {\n",
       "        text-align: right;\n",
       "    }\n",
       "</style>\n",
       "<table border=\"1\" class=\"dataframe\">\n",
       "  <thead>\n",
       "    <tr style=\"text-align: right;\">\n",
       "      <th></th>\n",
       "      <th>text</th>\n",
       "      <th>created_at</th>\n",
       "      <th>likes</th>\n",
       "      <th>retweets</th>\n",
       "    </tr>\n",
       "  </thead>\n",
       "  <tbody>\n",
       "    <tr>\n",
       "      <th>57</th>\n",
       "      <td>RT @SpaceX: Deployment of ispace’s HAKUTO-R Mi...</td>\n",
       "      <td>2022-12-11T08:27:27.000Z</td>\n",
       "      <td>0</td>\n",
       "      <td>3903</td>\n",
       "    </tr>\n",
       "    <tr>\n",
       "      <th>63</th>\n",
       "      <td>RT @SpaceX: Watch Falcon 9 launch ispace’s HAK...</td>\n",
       "      <td>2022-12-11T07:56:19.000Z</td>\n",
       "      <td>0</td>\n",
       "      <td>3844</td>\n",
       "    </tr>\n",
       "    <tr>\n",
       "      <th>64</th>\n",
       "      <td>RT @SpaceX: Falcon 9’s first stage has landed ...</td>\n",
       "      <td>2022-12-11T07:56:16.000Z</td>\n",
       "      <td>0</td>\n",
       "      <td>3469</td>\n",
       "    </tr>\n",
       "    <tr>\n",
       "      <th>65</th>\n",
       "      <td>RT @SpaceX: Liftoff! https://t.co/FEenmAJmOz</td>\n",
       "      <td>2022-12-11T07:56:14.000Z</td>\n",
       "      <td>0</td>\n",
       "      <td>5240</td>\n",
       "    </tr>\n",
       "    <tr>\n",
       "      <th>69</th>\n",
       "      <td>RT @CommunityNotes: Beginning today, Community...</td>\n",
       "      <td>2022-12-11T01:45:21.000Z</td>\n",
       "      <td>0</td>\n",
       "      <td>4537</td>\n",
       "    </tr>\n",
       "    <tr>\n",
       "      <th>...</th>\n",
       "      <td>...</td>\n",
       "      <td>...</td>\n",
       "      <td>...</td>\n",
       "      <td>...</td>\n",
       "    </tr>\n",
       "    <tr>\n",
       "      <th>59</th>\n",
       "      <td>RT @Tesla: Vote for new Supercharger locations...</td>\n",
       "      <td>2022-10-21T21:46:05.000Z</td>\n",
       "      <td>0</td>\n",
       "      <td>2288</td>\n",
       "    </tr>\n",
       "    <tr>\n",
       "      <th>60</th>\n",
       "      <td>RT @Tesla: Our most advanced paint system yet,...</td>\n",
       "      <td>2022-10-21T21:45:15.000Z</td>\n",
       "      <td>0</td>\n",
       "      <td>1532</td>\n",
       "    </tr>\n",
       "    <tr>\n",
       "      <th>70</th>\n",
       "      <td>RT @Tesla: https://t.co/CqbkkORG70</td>\n",
       "      <td>2022-10-21T06:01:32.000Z</td>\n",
       "      <td>0</td>\n",
       "      <td>2654</td>\n",
       "    </tr>\n",
       "    <tr>\n",
       "      <th>94</th>\n",
       "      <td>RT @SpaceX: Deployment of 54 Starlink satellit...</td>\n",
       "      <td>2022-10-20T16:05:22.000Z</td>\n",
       "      <td>0</td>\n",
       "      <td>2142</td>\n",
       "    </tr>\n",
       "    <tr>\n",
       "      <th>2</th>\n",
       "      <td>RT @Tesla: 10 years of Supercharging.\\n\\n46 co...</td>\n",
       "      <td>2022-10-20T01:12:50.000Z</td>\n",
       "      <td>0</td>\n",
       "      <td>4381</td>\n",
       "    </tr>\n",
       "  </tbody>\n",
       "</table>\n",
       "<p>72 rows × 4 columns</p>\n",
       "</div>"
      ],
      "text/plain": [
       "                                                 text  \\\n",
       "57  RT @SpaceX: Deployment of ispace’s HAKUTO-R Mi...   \n",
       "63  RT @SpaceX: Watch Falcon 9 launch ispace’s HAK...   \n",
       "64  RT @SpaceX: Falcon 9’s first stage has landed ...   \n",
       "65       RT @SpaceX: Liftoff! https://t.co/FEenmAJmOz   \n",
       "69  RT @CommunityNotes: Beginning today, Community...   \n",
       "..                                                ...   \n",
       "59  RT @Tesla: Vote for new Supercharger locations...   \n",
       "60  RT @Tesla: Our most advanced paint system yet,...   \n",
       "70                 RT @Tesla: https://t.co/CqbkkORG70   \n",
       "94  RT @SpaceX: Deployment of 54 Starlink satellit...   \n",
       "2   RT @Tesla: 10 years of Supercharging.\\n\\n46 co...   \n",
       "\n",
       "                  created_at  likes  retweets  \n",
       "57  2022-12-11T08:27:27.000Z      0      3903  \n",
       "63  2022-12-11T07:56:19.000Z      0      3844  \n",
       "64  2022-12-11T07:56:16.000Z      0      3469  \n",
       "65  2022-12-11T07:56:14.000Z      0      5240  \n",
       "69  2022-12-11T01:45:21.000Z      0      4537  \n",
       "..                       ...    ...       ...  \n",
       "59  2022-10-21T21:46:05.000Z      0      2288  \n",
       "60  2022-10-21T21:45:15.000Z      0      1532  \n",
       "70  2022-10-21T06:01:32.000Z      0      2654  \n",
       "94  2022-10-20T16:05:22.000Z      0      2142  \n",
       "2   2022-10-20T01:12:50.000Z      0      4381  \n",
       "\n",
       "[72 rows x 4 columns]"
      ]
     },
     "execution_count": 7,
     "metadata": {},
     "output_type": "execute_result"
    }
   ],
   "source": [
    "api_df[(api_df[\"text\"].apply(lambda x: str(x).startswith(\"RT @\"))) & (api_df[\"likes\"] == 0)]"
   ]
  },
  {
   "attachments": {},
   "cell_type": "markdown",
   "metadata": {},
   "source": [
    "Let's remove those."
   ]
  },
  {
   "cell_type": "code",
   "execution_count": 8,
   "metadata": {},
   "outputs": [
    {
     "data": {
      "text/html": [
       "<div>\n",
       "<style scoped>\n",
       "    .dataframe tbody tr th:only-of-type {\n",
       "        vertical-align: middle;\n",
       "    }\n",
       "\n",
       "    .dataframe tbody tr th {\n",
       "        vertical-align: top;\n",
       "    }\n",
       "\n",
       "    .dataframe thead th {\n",
       "        text-align: right;\n",
       "    }\n",
       "</style>\n",
       "<table border=\"1\" class=\"dataframe\">\n",
       "  <thead>\n",
       "    <tr style=\"text-align: right;\">\n",
       "      <th></th>\n",
       "      <th>text</th>\n",
       "      <th>created_at</th>\n",
       "      <th>likes</th>\n",
       "      <th>retweets</th>\n",
       "    </tr>\n",
       "  </thead>\n",
       "  <tbody>\n",
       "    <tr>\n",
       "      <th>0</th>\n",
       "      <td>@Lukewearechange @AndrewPollackFL Accurate</td>\n",
       "      <td>2022-12-12T22:15:25.000Z</td>\n",
       "      <td>39121</td>\n",
       "      <td>2896</td>\n",
       "    </tr>\n",
       "    <tr>\n",
       "      <th>1</th>\n",
       "      <td>@BillyM2k Haha totally. High quality bots are ...</td>\n",
       "      <td>2022-12-12T21:40:20.000Z</td>\n",
       "      <td>11864</td>\n",
       "      <td>598</td>\n",
       "    </tr>\n",
       "    <tr>\n",
       "      <th>2</th>\n",
       "      <td>@rupasubramanya @TheFP Exactly</td>\n",
       "      <td>2022-12-12T21:34:51.000Z</td>\n",
       "      <td>35004</td>\n",
       "      <td>2399</td>\n",
       "    </tr>\n",
       "    <tr>\n",
       "      <th>3</th>\n",
       "      <td>@TRHLofficial @ggreenwald Indeed</td>\n",
       "      <td>2022-12-12T21:14:47.000Z</td>\n",
       "      <td>11748</td>\n",
       "      <td>661</td>\n",
       "    </tr>\n",
       "    <tr>\n",
       "      <th>4</th>\n",
       "      <td>@micsolana The wording is mine lol</td>\n",
       "      <td>2022-12-12T20:56:45.000Z</td>\n",
       "      <td>78744</td>\n",
       "      <td>2611</td>\n",
       "    </tr>\n",
       "    <tr>\n",
       "      <th>...</th>\n",
       "      <td>...</td>\n",
       "      <td>...</td>\n",
       "      <td>...</td>\n",
       "      <td>...</td>\n",
       "    </tr>\n",
       "    <tr>\n",
       "      <th>98</th>\n",
       "      <td>@marenkahnert @jasondebolt Exactly</td>\n",
       "      <td>2022-10-20T07:57:25.000Z</td>\n",
       "      <td>1935</td>\n",
       "      <td>79</td>\n",
       "    </tr>\n",
       "    <tr>\n",
       "      <th>99</th>\n",
       "      <td>@Teslarati @13ericralph31 SpaceX has more acti...</td>\n",
       "      <td>2022-10-20T07:30:52.000Z</td>\n",
       "      <td>16137</td>\n",
       "      <td>1387</td>\n",
       "    </tr>\n",
       "    <tr>\n",
       "      <th>0</th>\n",
       "      <td>@jasondebolt The media reports with great fanf...</td>\n",
       "      <td>2022-10-20T06:52:01.000Z</td>\n",
       "      <td>23013</td>\n",
       "      <td>1492</td>\n",
       "    </tr>\n",
       "    <tr>\n",
       "      <th>1</th>\n",
       "      <td>@jakebrowatzke @andyjayhawk 🤣</td>\n",
       "      <td>2022-10-20T06:38:51.000Z</td>\n",
       "      <td>1951</td>\n",
       "      <td>78</td>\n",
       "    </tr>\n",
       "    <tr>\n",
       "      <th>3</th>\n",
       "      <td>@Teslarati @JohnnaCrider1 Accelerating sustain...</td>\n",
       "      <td>2022-10-20T00:10:14.000Z</td>\n",
       "      <td>18086</td>\n",
       "      <td>1410</td>\n",
       "    </tr>\n",
       "  </tbody>\n",
       "</table>\n",
       "<p>1429 rows × 4 columns</p>\n",
       "</div>"
      ],
      "text/plain": [
       "                                                 text  \\\n",
       "0          @Lukewearechange @AndrewPollackFL Accurate   \n",
       "1   @BillyM2k Haha totally. High quality bots are ...   \n",
       "2                      @rupasubramanya @TheFP Exactly   \n",
       "3                    @TRHLofficial @ggreenwald Indeed   \n",
       "4                  @micsolana The wording is mine lol   \n",
       "..                                                ...   \n",
       "98                 @marenkahnert @jasondebolt Exactly   \n",
       "99  @Teslarati @13ericralph31 SpaceX has more acti...   \n",
       "0   @jasondebolt The media reports with great fanf...   \n",
       "1                       @jakebrowatzke @andyjayhawk 🤣   \n",
       "3   @Teslarati @JohnnaCrider1 Accelerating sustain...   \n",
       "\n",
       "                  created_at  likes  retweets  \n",
       "0   2022-12-12T22:15:25.000Z  39121      2896  \n",
       "1   2022-12-12T21:40:20.000Z  11864       598  \n",
       "2   2022-12-12T21:34:51.000Z  35004      2399  \n",
       "3   2022-12-12T21:14:47.000Z  11748       661  \n",
       "4   2022-12-12T20:56:45.000Z  78744      2611  \n",
       "..                       ...    ...       ...  \n",
       "98  2022-10-20T07:57:25.000Z   1935        79  \n",
       "99  2022-10-20T07:30:52.000Z  16137      1387  \n",
       "0   2022-10-20T06:52:01.000Z  23013      1492  \n",
       "1   2022-10-20T06:38:51.000Z   1951        78  \n",
       "3   2022-10-20T00:10:14.000Z  18086      1410  \n",
       "\n",
       "[1429 rows x 4 columns]"
      ]
     },
     "execution_count": 8,
     "metadata": {},
     "output_type": "execute_result"
    }
   ],
   "source": [
    "api_df = api_df[~((api_df[\"text\"].apply(lambda x: str(x).startswith(\"RT @\"))) & (api_df[\"likes\"] == 0))]\n",
    "api_df"
   ]
  },
  {
   "attachments": {},
   "cell_type": "markdown",
   "metadata": {},
   "source": [
    "The ```created_at``` column contains the date and time a tweet was created. We only care about the date so let's strip the date and time down to date, then rename the column to \"date\""
   ]
  },
  {
   "cell_type": "code",
   "execution_count": 9,
   "metadata": {},
   "outputs": [
    {
     "data": {
      "text/html": [
       "<div>\n",
       "<style scoped>\n",
       "    .dataframe tbody tr th:only-of-type {\n",
       "        vertical-align: middle;\n",
       "    }\n",
       "\n",
       "    .dataframe tbody tr th {\n",
       "        vertical-align: top;\n",
       "    }\n",
       "\n",
       "    .dataframe thead th {\n",
       "        text-align: right;\n",
       "    }\n",
       "</style>\n",
       "<table border=\"1\" class=\"dataframe\">\n",
       "  <thead>\n",
       "    <tr style=\"text-align: right;\">\n",
       "      <th></th>\n",
       "      <th>text</th>\n",
       "      <th>likes</th>\n",
       "      <th>retweets</th>\n",
       "      <th>date</th>\n",
       "    </tr>\n",
       "  </thead>\n",
       "  <tbody>\n",
       "    <tr>\n",
       "      <th>0</th>\n",
       "      <td>@Lukewearechange @AndrewPollackFL Accurate</td>\n",
       "      <td>39121</td>\n",
       "      <td>2896</td>\n",
       "      <td>2022-12-12</td>\n",
       "    </tr>\n",
       "    <tr>\n",
       "      <th>1</th>\n",
       "      <td>@BillyM2k Haha totally. High quality bots are ...</td>\n",
       "      <td>11864</td>\n",
       "      <td>598</td>\n",
       "      <td>2022-12-12</td>\n",
       "    </tr>\n",
       "    <tr>\n",
       "      <th>2</th>\n",
       "      <td>@rupasubramanya @TheFP Exactly</td>\n",
       "      <td>35004</td>\n",
       "      <td>2399</td>\n",
       "      <td>2022-12-12</td>\n",
       "    </tr>\n",
       "    <tr>\n",
       "      <th>3</th>\n",
       "      <td>@TRHLofficial @ggreenwald Indeed</td>\n",
       "      <td>11748</td>\n",
       "      <td>661</td>\n",
       "      <td>2022-12-12</td>\n",
       "    </tr>\n",
       "    <tr>\n",
       "      <th>4</th>\n",
       "      <td>@micsolana The wording is mine lol</td>\n",
       "      <td>78744</td>\n",
       "      <td>2611</td>\n",
       "      <td>2022-12-12</td>\n",
       "    </tr>\n",
       "  </tbody>\n",
       "</table>\n",
       "</div>"
      ],
      "text/plain": [
       "                                                text  likes  retweets  \\\n",
       "0         @Lukewearechange @AndrewPollackFL Accurate  39121      2896   \n",
       "1  @BillyM2k Haha totally. High quality bots are ...  11864       598   \n",
       "2                     @rupasubramanya @TheFP Exactly  35004      2399   \n",
       "3                   @TRHLofficial @ggreenwald Indeed  11748       661   \n",
       "4                 @micsolana The wording is mine lol  78744      2611   \n",
       "\n",
       "         date  \n",
       "0  2022-12-12  \n",
       "1  2022-12-12  \n",
       "2  2022-12-12  \n",
       "3  2022-12-12  \n",
       "4  2022-12-12  "
      ]
     },
     "execution_count": 9,
     "metadata": {},
     "output_type": "execute_result"
    }
   ],
   "source": [
    "api_df[\"date\"] = pd.to_datetime(api_df[\"created_at\"]).dt.date\n",
    "api_df = api_df.drop(columns=\"created_at\")\n",
    "api_df.head()"
   ]
  },
  {
   "attachments": {},
   "cell_type": "markdown",
   "metadata": {},
   "source": [
    "Now lets combine the two datasets.\n",
    "\n",
    "Our first step is to remove entries after 10/19 from the Kaggle dataset, these will be replaced by the Twitter API dataset."
   ]
  },
  {
   "cell_type": "code",
   "execution_count": 10,
   "metadata": {},
   "outputs": [
    {
     "data": {
      "text/html": [
       "<div>\n",
       "<style scoped>\n",
       "    .dataframe tbody tr th:only-of-type {\n",
       "        vertical-align: middle;\n",
       "    }\n",
       "\n",
       "    .dataframe tbody tr th {\n",
       "        vertical-align: top;\n",
       "    }\n",
       "\n",
       "    .dataframe thead th {\n",
       "        text-align: right;\n",
       "    }\n",
       "</style>\n",
       "<table border=\"1\" class=\"dataframe\">\n",
       "  <thead>\n",
       "    <tr style=\"text-align: right;\">\n",
       "      <th></th>\n",
       "      <th>Tweets</th>\n",
       "      <th>Retweets</th>\n",
       "      <th>Likes</th>\n",
       "      <th>Date</th>\n",
       "      <th>Cleaned_Tweets</th>\n",
       "    </tr>\n",
       "  </thead>\n",
       "  <tbody>\n",
       "    <tr>\n",
       "      <th>95</th>\n",
       "      <td>@westcoastbill Will require truly exceptional ...</td>\n",
       "      <td>745</td>\n",
       "      <td>11060</td>\n",
       "      <td>2022-10-19</td>\n",
       "      <td>Will require truly exceptional execution, but ...</td>\n",
       "    </tr>\n",
       "    <tr>\n",
       "      <th>96</th>\n",
       "      <td>I will not let you down, no matter what it takes</td>\n",
       "      <td>35111</td>\n",
       "      <td>392237</td>\n",
       "      <td>2022-10-19</td>\n",
       "      <td>I will not let you down, no matter what it takes</td>\n",
       "    </tr>\n",
       "    <tr>\n",
       "      <th>97</th>\n",
       "      <td>@DirtyTesLa Awesome</td>\n",
       "      <td>88</td>\n",
       "      <td>2381</td>\n",
       "      <td>2022-10-19</td>\n",
       "      <td>Awesome</td>\n",
       "    </tr>\n",
       "    <tr>\n",
       "      <th>98</th>\n",
       "      <td>We even did a Starlink video call on one airpl...</td>\n",
       "      <td>2060</td>\n",
       "      <td>37029</td>\n",
       "      <td>2022-10-19</td>\n",
       "      <td>We even did a Starlink video call on one airpl...</td>\n",
       "    </tr>\n",
       "    <tr>\n",
       "      <th>99</th>\n",
       "      <td>Vox Populi Vox Dei</td>\n",
       "      <td>5709</td>\n",
       "      <td>53880</td>\n",
       "      <td>2022-10-19</td>\n",
       "      <td>Vox Populi Vox Dei</td>\n",
       "    </tr>\n",
       "    <tr>\n",
       "      <th>...</th>\n",
       "      <td>...</td>\n",
       "      <td>...</td>\n",
       "      <td>...</td>\n",
       "      <td>...</td>\n",
       "      <td>...</td>\n",
       "    </tr>\n",
       "    <tr>\n",
       "      <th>2663</th>\n",
       "      <td>@LimitingThe @baglino Just that manganese is a...</td>\n",
       "      <td>171</td>\n",
       "      <td>3173</td>\n",
       "      <td>2022-01-27</td>\n",
       "      <td>Just that manganese is an alternative to iron ...</td>\n",
       "    </tr>\n",
       "    <tr>\n",
       "      <th>2664</th>\n",
       "      <td>@incentives101 @ICRicardoLara Exactly</td>\n",
       "      <td>145</td>\n",
       "      <td>4234</td>\n",
       "      <td>2022-01-27</td>\n",
       "      <td>Exactly</td>\n",
       "    </tr>\n",
       "    <tr>\n",
       "      <th>2665</th>\n",
       "      <td>@ICRicardoLara Your policies are directly resp...</td>\n",
       "      <td>421</td>\n",
       "      <td>6144</td>\n",
       "      <td>2022-01-27</td>\n",
       "      <td>Your policies are directly responsible for the...</td>\n",
       "    </tr>\n",
       "    <tr>\n",
       "      <th>2666</th>\n",
       "      <td>@ICRicardoLara You should be voted out of office</td>\n",
       "      <td>484</td>\n",
       "      <td>7029</td>\n",
       "      <td>2022-01-27</td>\n",
       "      <td>You should be voted out of office</td>\n",
       "    </tr>\n",
       "    <tr>\n",
       "      <th>2667</th>\n",
       "      <td>CB radios are free from govt/media control</td>\n",
       "      <td>11302</td>\n",
       "      <td>113429</td>\n",
       "      <td>2022-01-27</td>\n",
       "      <td>CB radios are free from govt/media control</td>\n",
       "    </tr>\n",
       "  </tbody>\n",
       "</table>\n",
       "<p>2573 rows × 5 columns</p>\n",
       "</div>"
      ],
      "text/plain": [
       "                                                 Tweets  Retweets   Likes  \\\n",
       "95    @westcoastbill Will require truly exceptional ...       745   11060   \n",
       "96     I will not let you down, no matter what it takes     35111  392237   \n",
       "97                                  @DirtyTesLa Awesome        88    2381   \n",
       "98    We even did a Starlink video call on one airpl...      2060   37029   \n",
       "99                                   Vox Populi Vox Dei      5709   53880   \n",
       "...                                                 ...       ...     ...   \n",
       "2663  @LimitingThe @baglino Just that manganese is a...       171    3173   \n",
       "2664              @incentives101 @ICRicardoLara Exactly       145    4234   \n",
       "2665  @ICRicardoLara Your policies are directly resp...       421    6144   \n",
       "2666   @ICRicardoLara You should be voted out of office       484    7029   \n",
       "2667         CB radios are free from govt/media control     11302  113429   \n",
       "\n",
       "            Date                                     Cleaned_Tweets  \n",
       "95    2022-10-19  Will require truly exceptional execution, but ...  \n",
       "96    2022-10-19   I will not let you down, no matter what it takes  \n",
       "97    2022-10-19                                            Awesome  \n",
       "98    2022-10-19  We even did a Starlink video call on one airpl...  \n",
       "99    2022-10-19                                 Vox Populi Vox Dei  \n",
       "...          ...                                                ...  \n",
       "2663  2022-01-27  Just that manganese is an alternative to iron ...  \n",
       "2664  2022-01-27                                            Exactly  \n",
       "2665  2022-01-27  Your policies are directly responsible for the...  \n",
       "2666  2022-01-27                  You should be voted out of office  \n",
       "2667  2022-01-27         CB radios are free from govt/media control  \n",
       "\n",
       "[2573 rows x 5 columns]"
      ]
     },
     "execution_count": 10,
     "metadata": {},
     "output_type": "execute_result"
    }
   ],
   "source": [
    "kaggle_df = kaggle_df[~(kaggle_df[\"Date\"] > dt(2022,10,19))]\n",
    "kaggle_df"
   ]
  },
  {
   "attachments": {},
   "cell_type": "markdown",
   "metadata": {},
   "source": [
    "Then we need to rename and reorder the columns so that they match the Twitter API datset, as well as drop the `Cleaned_Tweets` column in the Kaggle dataset (we will implement our own cleaning later)."
   ]
  },
  {
   "cell_type": "code",
   "execution_count": 11,
   "metadata": {},
   "outputs": [
    {
     "data": {
      "text/html": [
       "<div>\n",
       "<style scoped>\n",
       "    .dataframe tbody tr th:only-of-type {\n",
       "        vertical-align: middle;\n",
       "    }\n",
       "\n",
       "    .dataframe tbody tr th {\n",
       "        vertical-align: top;\n",
       "    }\n",
       "\n",
       "    .dataframe thead th {\n",
       "        text-align: right;\n",
       "    }\n",
       "</style>\n",
       "<table border=\"1\" class=\"dataframe\">\n",
       "  <thead>\n",
       "    <tr style=\"text-align: right;\">\n",
       "      <th></th>\n",
       "      <th>text</th>\n",
       "      <th>likes</th>\n",
       "      <th>retweets</th>\n",
       "      <th>date</th>\n",
       "    </tr>\n",
       "  </thead>\n",
       "  <tbody>\n",
       "    <tr>\n",
       "      <th>0</th>\n",
       "      <td>@Lukewearechange @AndrewPollackFL Accurate</td>\n",
       "      <td>39121</td>\n",
       "      <td>2896</td>\n",
       "      <td>2022-12-12</td>\n",
       "    </tr>\n",
       "    <tr>\n",
       "      <th>1</th>\n",
       "      <td>@BillyM2k Haha totally. High quality bots are ...</td>\n",
       "      <td>11864</td>\n",
       "      <td>598</td>\n",
       "      <td>2022-12-12</td>\n",
       "    </tr>\n",
       "    <tr>\n",
       "      <th>2</th>\n",
       "      <td>@rupasubramanya @TheFP Exactly</td>\n",
       "      <td>35004</td>\n",
       "      <td>2399</td>\n",
       "      <td>2022-12-12</td>\n",
       "    </tr>\n",
       "    <tr>\n",
       "      <th>3</th>\n",
       "      <td>@TRHLofficial @ggreenwald Indeed</td>\n",
       "      <td>11748</td>\n",
       "      <td>661</td>\n",
       "      <td>2022-12-12</td>\n",
       "    </tr>\n",
       "    <tr>\n",
       "      <th>4</th>\n",
       "      <td>@micsolana The wording is mine lol</td>\n",
       "      <td>78744</td>\n",
       "      <td>2611</td>\n",
       "      <td>2022-12-12</td>\n",
       "    </tr>\n",
       "    <tr>\n",
       "      <th>...</th>\n",
       "      <td>...</td>\n",
       "      <td>...</td>\n",
       "      <td>...</td>\n",
       "      <td>...</td>\n",
       "    </tr>\n",
       "    <tr>\n",
       "      <th>2663</th>\n",
       "      <td>@LimitingThe @baglino Just that manganese is a...</td>\n",
       "      <td>3173</td>\n",
       "      <td>171</td>\n",
       "      <td>2022-01-27</td>\n",
       "    </tr>\n",
       "    <tr>\n",
       "      <th>2664</th>\n",
       "      <td>@incentives101 @ICRicardoLara Exactly</td>\n",
       "      <td>4234</td>\n",
       "      <td>145</td>\n",
       "      <td>2022-01-27</td>\n",
       "    </tr>\n",
       "    <tr>\n",
       "      <th>2665</th>\n",
       "      <td>@ICRicardoLara Your policies are directly resp...</td>\n",
       "      <td>6144</td>\n",
       "      <td>421</td>\n",
       "      <td>2022-01-27</td>\n",
       "    </tr>\n",
       "    <tr>\n",
       "      <th>2666</th>\n",
       "      <td>@ICRicardoLara You should be voted out of office</td>\n",
       "      <td>7029</td>\n",
       "      <td>484</td>\n",
       "      <td>2022-01-27</td>\n",
       "    </tr>\n",
       "    <tr>\n",
       "      <th>2667</th>\n",
       "      <td>CB radios are free from govt/media control</td>\n",
       "      <td>113429</td>\n",
       "      <td>11302</td>\n",
       "      <td>2022-01-27</td>\n",
       "    </tr>\n",
       "  </tbody>\n",
       "</table>\n",
       "<p>4002 rows × 4 columns</p>\n",
       "</div>"
      ],
      "text/plain": [
       "                                                   text   likes  retweets  \\\n",
       "0            @Lukewearechange @AndrewPollackFL Accurate   39121      2896   \n",
       "1     @BillyM2k Haha totally. High quality bots are ...   11864       598   \n",
       "2                        @rupasubramanya @TheFP Exactly   35004      2399   \n",
       "3                      @TRHLofficial @ggreenwald Indeed   11748       661   \n",
       "4                    @micsolana The wording is mine lol   78744      2611   \n",
       "...                                                 ...     ...       ...   \n",
       "2663  @LimitingThe @baglino Just that manganese is a...    3173       171   \n",
       "2664              @incentives101 @ICRicardoLara Exactly    4234       145   \n",
       "2665  @ICRicardoLara Your policies are directly resp...    6144       421   \n",
       "2666   @ICRicardoLara You should be voted out of office    7029       484   \n",
       "2667         CB radios are free from govt/media control  113429     11302   \n",
       "\n",
       "            date  \n",
       "0     2022-12-12  \n",
       "1     2022-12-12  \n",
       "2     2022-12-12  \n",
       "3     2022-12-12  \n",
       "4     2022-12-12  \n",
       "...          ...  \n",
       "2663  2022-01-27  \n",
       "2664  2022-01-27  \n",
       "2665  2022-01-27  \n",
       "2666  2022-01-27  \n",
       "2667  2022-01-27  \n",
       "\n",
       "[4002 rows x 4 columns]"
      ]
     },
     "execution_count": 11,
     "metadata": {},
     "output_type": "execute_result"
    }
   ],
   "source": [
    "tmp_kaggle_df = kaggle_df.drop(columns=\"Cleaned_Tweets\")\n",
    "tmp_kaggle_df.columns = [\"text\", \"retweets\", \"likes\", \"date\"]\n",
    "\n",
    "tmp_kaggle_df = tmp_kaggle_df[[\"text\", \"date\", \"likes\", \"retweets\"]]\n",
    "\n",
    "df = pd.concat([api_df,tmp_kaggle_df])\n",
    "df"
   ]
  },
  {
   "cell_type": "code",
   "execution_count": 12,
   "metadata": {},
   "outputs": [
    {
     "name": "stdout",
     "output_type": "stream",
     "text": [
      "Min: 2022-01-27   Max: 2022-12-12\n"
     ]
    }
   ],
   "source": [
    "# confirm date range is 1/27 - today\n",
    "print(\"Min:\", df[\"date\"].min(), \"  Max:\", df[\"date\"].max())"
   ]
  },
  {
   "attachments": {},
   "cell_type": "markdown",
   "metadata": {},
   "source": [
    "We now have a combined dataset that we can start to use in our analysis!"
   ]
  },
  {
   "attachments": {},
   "cell_type": "markdown",
   "metadata": {},
   "source": [
    "## Data Curation"
   ]
  },
  {
   "attachments": {},
   "cell_type": "markdown",
   "metadata": {},
   "source": [
    "For the data obtained from both methods, we only need to keep the date of the tweet for future analysis, removing the time of the tweet. The number of likes and retweets remained untouched. We got rid of the cleaned tweets column from the Kaggle dataset since we will use our own cleaner on the original tweet. Also, we noticed that ampersand symbols appeared as \"&amp\" in the original tweet, so we replaced that with just the ampersand symbol, \"&\". In the tweets obtained from Twitter’s API, it includes retweets, which we don’t need. We removed the 72 instances of retweets.\n",
    " \n",
    "Now, we can combine the two datasets in one dataframe. We looked at the contents of the tweets. In each tweet, it may include mentions of other users, indicated by @ followed by a username (e.g. “@cmsc320”, “@maxiscool”), links to other tweets, websites, and media like images or videos. We need to remove that from the text field.    "
   ]
  },
  {
   "cell_type": "code",
   "execution_count": 13,
   "metadata": {},
   "outputs": [
    {
     "data": {
      "text/html": [
       "<div>\n",
       "<style scoped>\n",
       "    .dataframe tbody tr th:only-of-type {\n",
       "        vertical-align: middle;\n",
       "    }\n",
       "\n",
       "    .dataframe tbody tr th {\n",
       "        vertical-align: top;\n",
       "    }\n",
       "\n",
       "    .dataframe thead th {\n",
       "        text-align: right;\n",
       "    }\n",
       "</style>\n",
       "<table border=\"1\" class=\"dataframe\">\n",
       "  <thead>\n",
       "    <tr style=\"text-align: right;\">\n",
       "      <th></th>\n",
       "      <th>text</th>\n",
       "      <th>likes</th>\n",
       "      <th>retweets</th>\n",
       "      <th>date</th>\n",
       "      <th>cleaned_text</th>\n",
       "    </tr>\n",
       "  </thead>\n",
       "  <tbody>\n",
       "    <tr>\n",
       "      <th>0</th>\n",
       "      <td>@Lukewearechange @AndrewPollackFL Accurate</td>\n",
       "      <td>39121</td>\n",
       "      <td>2896</td>\n",
       "      <td>2022-12-12</td>\n",
       "      <td>Accurate</td>\n",
       "    </tr>\n",
       "    <tr>\n",
       "      <th>1</th>\n",
       "      <td>@BillyM2k Haha totally. High quality bots are ...</td>\n",
       "      <td>11864</td>\n",
       "      <td>598</td>\n",
       "      <td>2022-12-12</td>\n",
       "      <td>Haha totally. High quality bots are fine!</td>\n",
       "    </tr>\n",
       "    <tr>\n",
       "      <th>2</th>\n",
       "      <td>@rupasubramanya @TheFP Exactly</td>\n",
       "      <td>35004</td>\n",
       "      <td>2399</td>\n",
       "      <td>2022-12-12</td>\n",
       "      <td>Exactly</td>\n",
       "    </tr>\n",
       "    <tr>\n",
       "      <th>3</th>\n",
       "      <td>@TRHLofficial @ggreenwald Indeed</td>\n",
       "      <td>11748</td>\n",
       "      <td>661</td>\n",
       "      <td>2022-12-12</td>\n",
       "      <td>Indeed</td>\n",
       "    </tr>\n",
       "    <tr>\n",
       "      <th>4</th>\n",
       "      <td>@micsolana The wording is mine lol</td>\n",
       "      <td>78744</td>\n",
       "      <td>2611</td>\n",
       "      <td>2022-12-12</td>\n",
       "      <td>The wording is mine lol</td>\n",
       "    </tr>\n",
       "  </tbody>\n",
       "</table>\n",
       "</div>"
      ],
      "text/plain": [
       "                                                text  likes  retweets  \\\n",
       "0         @Lukewearechange @AndrewPollackFL Accurate  39121      2896   \n",
       "1  @BillyM2k Haha totally. High quality bots are ...  11864       598   \n",
       "2                     @rupasubramanya @TheFP Exactly  35004      2399   \n",
       "3                   @TRHLofficial @ggreenwald Indeed  11748       661   \n",
       "4                 @micsolana The wording is mine lol  78744      2611   \n",
       "\n",
       "         date                                cleaned_text  \n",
       "0  2022-12-12                                    Accurate  \n",
       "1  2022-12-12   Haha totally. High quality bots are fine!  \n",
       "2  2022-12-12                                     Exactly  \n",
       "3  2022-12-12                                      Indeed  \n",
       "4  2022-12-12                     The wording is mine lol  "
      ]
     },
     "execution_count": 13,
     "metadata": {},
     "output_type": "execute_result"
    }
   ],
   "source": [
    "df[\"cleaned_text\"] = df[\"text\"].apply(lambda x: re.sub(r'@\\w+', \"\", x))\n",
    "df[\"cleaned_text\"] = df[\"cleaned_text\"].apply(lambda x: re.sub(r'https?:\\/\\/(?:www\\.)?[-a-zA-Z0-9@:%._\\+~#=]{1,256}\\.[a-zA-Z0-9()]{1,6}\\b(?:[-a-zA-Z0-9()@:%_\\+.~#?&\\/=]*)', \"\", x))\n",
    "df[\"cleaned_text\"] = df[\"cleaned_text\"].apply(lambda x: x.replace(\"&amp;\", \"&\"))\n",
    "df.head()"
   ]
  },
  {
   "attachments": {},
   "cell_type": "markdown",
   "metadata": {},
   "source": [
    "## Exploratory Data Analysis\n",
    "\n",
    "Now that we have scraped, parsed, and cleaned the data, we have a dataframe of Elon Musk's tweets to work with. We can begin exploring our dataframe using matplotlib to visualize our data."
   ]
  },
  {
   "attachments": {},
   "cell_type": "markdown",
   "metadata": {},
   "source": [
    "Did Elon Tweet every day from 1/27 until today? In order to find out, we need to find the difference in every day in that range and the unique values from the date column. This will be helpful later when we plot data."
   ]
  },
  {
   "cell_type": "code",
   "execution_count": 14,
   "metadata": {},
   "outputs": [
    {
     "name": "stdout",
     "output_type": "stream",
     "text": [
      "There are 23 days when Elon Musk did not post a tweet.\n"
     ]
    },
    {
     "data": {
      "text/plain": [
       "{datetime.date(2022, 2, 24),\n",
       " datetime.date(2022, 2, 27),\n",
       " datetime.date(2022, 3, 23),\n",
       " datetime.date(2022, 4, 11),\n",
       " datetime.date(2022, 4, 12),\n",
       " datetime.date(2022, 4, 13),\n",
       " datetime.date(2022, 5, 5),\n",
       " datetime.date(2022, 6, 22),\n",
       " datetime.date(2022, 6, 23),\n",
       " datetime.date(2022, 6, 24),\n",
       " datetime.date(2022, 6, 25),\n",
       " datetime.date(2022, 6, 26),\n",
       " datetime.date(2022, 6, 27),\n",
       " datetime.date(2022, 6, 28),\n",
       " datetime.date(2022, 6, 29),\n",
       " datetime.date(2022, 6, 30),\n",
       " datetime.date(2022, 7, 1),\n",
       " datetime.date(2022, 7, 3),\n",
       " datetime.date(2022, 7, 9),\n",
       " datetime.date(2022, 7, 10),\n",
       " datetime.date(2022, 7, 17),\n",
       " datetime.date(2022, 8, 3),\n",
       " datetime.date(2022, 9, 2)}"
      ]
     },
     "execution_count": 14,
     "metadata": {},
     "output_type": "execute_result"
    }
   ],
   "source": [
    "min_date = df[\"date\"].min()\n",
    "max_date = df[\"date\"].max()\n",
    "time_delta = max_date - min_date\n",
    "\n",
    "all_dates = [min_date + timedelta(x) for x in range(time_delta.days + 1)]\n",
    "all_dates\n",
    "\n",
    "diff_in_dates = set(all_dates) - set(df[\"date\"].unique().tolist())\n",
    "print(\"There are \" + str(len(diff_in_dates)) + \" days when Elon Musk did not post a tweet.\")\n",
    "diff_in_dates"
   ]
  },
  {
   "attachments": {},
   "cell_type": "markdown",
   "metadata": {},
   "source": [
    "Looks like Elon did not tweet on 23 days. He took a 9 day break from June 22th to June 30th, 2022."
   ]
  },
  {
   "cell_type": "code",
   "execution_count": 15,
   "metadata": {},
   "outputs": [
    {
     "data": {
      "image/png": "[encoded data removed]",
      "text/plain": [
       "<Figure size 1440x360 with 1 Axes>"
      ]
     },
     "metadata": {
      "needs_background": "light"
     },
     "output_type": "display_data"
    },
    {
     "data": {
      "text/plain": [
       "count    297.000000\n",
       "mean      13.474747\n",
       "std       10.909031\n",
       "min        1.000000\n",
       "25%        5.000000\n",
       "50%       11.000000\n",
       "75%       19.000000\n",
       "max       69.000000\n",
       "Name: text, dtype: float64"
      ]
     },
     "metadata": {},
     "output_type": "display_data"
    }
   ],
   "source": [
    "dates_count_group = df.groupby(by=\"date\", as_index=False).count()\n",
    "\n",
    "plt.figure(figsize=(20,5))\n",
    "plt.scatter(dates_count_group[\"date\"], dates_count_group[\"text\"])\n",
    "plt.title(\"Amount of Elon Musk Tweets per Day in 2022\")\n",
    "plt.xlabel(\"Date\")\n",
    "plt.ylabel(\"Amount of Tweets\")\n",
    "plt.show()\n",
    "display(dates_count_group[\"text\"].describe())"
   ]
  },
  {
   "cell_type": "markdown",
   "metadata": {},
   "source": [
    "In this scatterplot, we are examining the amount of time Elon Musk tweets per day in 2022. On average, Elon Musk tweets around 13.54 times a day in 2022. Elon Musk typically tweets about 5 to 19 times a day. In November and December, there is an uptick in the number of times he tweets. His highest amount of tweets in a day were on November 23rd and December 9th, when he tweeted 69 and 64 times, respectively. "
   ]
  },
  {
   "cell_type": "code",
   "execution_count": 16,
   "metadata": {},
   "outputs": [
    {
     "data": {
      "image/png": "[encoded data removed]",
      "text/plain": [
       "<Figure size 1440x360 with 1 Axes>"
      ]
     },
     "metadata": {
      "needs_background": "light"
     },
     "output_type": "display_data"
    },
    {
     "data": {
      "text/plain": [
       "count    2.970000e+02\n",
       "mean     1.139952e+06\n",
       "std      1.658952e+06\n",
       "min      3.664000e+03\n",
       "25%      2.044820e+05\n",
       "50%      5.500210e+05\n",
       "75%      1.274600e+06\n",
       "max      1.349880e+07\n",
       "Name: likes, dtype: float64"
      ]
     },
     "execution_count": 16,
     "metadata": {},
     "output_type": "execute_result"
    }
   ],
   "source": [
    "dates_sum_group = df.groupby(by=\"date\", as_index=False).sum()\n",
    "\n",
    "plt.figure(figsize=(20,5))\n",
    "plt.scatter(dates_sum_group[\"date\"], dates_sum_group[\"likes\"])\n",
    "plt.title(\"Amount of Likes on Elon Musk's Tweets per Day in 2022\")\n",
    "plt.xlabel(\"Date\")\n",
    "plt.ylabel(\"Amount of Likes (per Ten Million)\")\n",
    "plt.show()\n",
    "dates_sum_group[\"likes\"].describe()"
   ]
  },
  {
   "cell_type": "markdown",
   "metadata": {},
   "source": [
    "In this scatterplot, we are visualizing the amount of likes Elon Musk's tweets get per day. On average, Elon Musk gets 1139008 likes on tweets per day. The median likes per day on tweets is 550783 likes. The likes on April 25th and 28th and a majority of days November and December On April 28th, 2022 skew the mean amount of likes Elon Musk gets since there are significantly higher than the normal amount. On April 25th, he tweets 8 times and got 6942305 likes. On April 28th, he tweets 16 times and got 13498798 likes, his all-time high in 2022. On his highly-liked days in October and November, there is a possibility that he got more likes because he tweeted more times on those days than usual as illustrated in the previous scatterplot. "
   ]
  },
  {
   "cell_type": "code",
   "execution_count": 33,
   "metadata": {},
   "outputs": [
    {
     "data": {
      "text/html": [
       "<div>\n",
       "<style scoped>\n",
       "    .dataframe tbody tr th:only-of-type {\n",
       "        vertical-align: middle;\n",
       "    }\n",
       "\n",
       "    .dataframe tbody tr th {\n",
       "        vertical-align: top;\n",
       "    }\n",
       "\n",
       "    .dataframe thead th {\n",
       "        text-align: right;\n",
       "    }\n",
       "</style>\n",
       "<table border=\"1\" class=\"dataframe\">\n",
       "  <thead>\n",
       "    <tr style=\"text-align: right;\">\n",
       "      <th></th>\n",
       "      <th>date</th>\n",
       "      <th>likes</th>\n",
       "      <th>retweets</th>\n",
       "      <th>text</th>\n",
       "      <th>likes/tweets</th>\n",
       "    </tr>\n",
       "  </thead>\n",
       "  <tbody>\n",
       "    <tr>\n",
       "      <th>82</th>\n",
       "      <td>2022-04-25</td>\n",
       "      <td>6942305</td>\n",
       "      <td>789375</td>\n",
       "      <td>8</td>\n",
       "      <td>867788.125000</td>\n",
       "    </tr>\n",
       "    <tr>\n",
       "      <th>83</th>\n",
       "      <td>2022-04-26</td>\n",
       "      <td>3910184</td>\n",
       "      <td>401710</td>\n",
       "      <td>6</td>\n",
       "      <td>651697.333333</td>\n",
       "    </tr>\n",
       "    <tr>\n",
       "      <th>85</th>\n",
       "      <td>2022-04-28</td>\n",
       "      <td>13498798</td>\n",
       "      <td>1307664</td>\n",
       "      <td>16</td>\n",
       "      <td>843674.875000</td>\n",
       "    </tr>\n",
       "    <tr>\n",
       "      <th>251</th>\n",
       "      <td>2022-10-28</td>\n",
       "      <td>8104365</td>\n",
       "      <td>882904</td>\n",
       "      <td>15</td>\n",
       "      <td>540291.000000</td>\n",
       "    </tr>\n",
       "  </tbody>\n",
       "</table>\n",
       "</div>"
      ],
      "text/plain": [
       "           date     likes  retweets  text   likes/tweets\n",
       "82   2022-04-25   6942305    789375     8  867788.125000\n",
       "83   2022-04-26   3910184    401710     6  651697.333333\n",
       "85   2022-04-28  13498798   1307664    16  843674.875000\n",
       "251  2022-10-28   8104365    882904    15  540291.000000"
      ]
     },
     "metadata": {},
     "output_type": "display_data"
    },
    {
     "data": {
      "text/plain": [
       "count       297.000000\n",
       "mean      79504.392734\n",
       "std       98496.009614\n",
       "min        3664.000000\n",
       "25%       26239.590909\n",
       "50%       53479.363636\n",
       "75%       98961.571429\n",
       "max      867788.125000\n",
       "Name: likes/tweets, dtype: float64"
      ]
     },
     "metadata": {},
     "output_type": "display_data"
    },
    {
     "data": {
      "image/png": "[encoded data removed]",
      "text/plain": [
       "<Figure size 1440x360 with 1 Axes>"
      ]
     },
     "metadata": {
      "needs_background": "light"
     },
     "output_type": "display_data"
    }
   ],
   "source": [
    "df_likes_to_tweets = dates_sum_group.copy()\n",
    "df_likes_to_tweets[\"text\"] = dates_count_group[\"text\"]\n",
    "df_likes_to_tweets[\"likes/tweets\"] = df_likes_to_tweets.apply(lambda x: x[\"likes\"]/x[\"text\"], axis=1)\n",
    "display(df_likes_to_tweets[df_likes_to_tweets[\"likes/tweets\"] > 500000])\n",
    "display(df_likes_to_tweets[\"likes/tweets\"].describe())\n",
    "plt.figure(figsize=(20,5))\n",
    "plt.scatter(df_likes_to_tweets[\"date\"], df_likes_to_tweets[\"likes/tweets\"])\n",
    "plt.title(\"Amount of Likes per Tweet for Elon Musk's Tweets per Day in 2022\")\n",
    "plt.xlabel(\"Date\")\n",
    "plt.ylabel(\"Amount of Likes per Tweet\")\n",
    "plt.show()"
   ]
  },
  {
   "cell_type": "markdown",
   "metadata": {},
   "source": [
    "In this scatterplot, we are looking at the ratio of Elon Musk's likes per tweet for each day in 2022. This visualization gives us a better idea of how many likes he gets per tweets compared to the last one because it gets rid of the variance of how often he tweeted on a given day. There were 4 specific days where his likes to tweet ratio was unusually high. On April 25th, 26th, 28th, and October 28th, he had over 500 thousand likes per tweet. This raises a few questions. Did something significant happened in those time periods? On October 28th, Elon Musk had announced that he was finalizing a deal to acquire Twitter and that might've had some influence on his account. On average, Elon Musk averages 79504.39 likes per tweet in 2022."
   ]
  },
  {
   "cell_type": "code",
   "execution_count": 19,
   "metadata": {},
   "outputs": [
    {
     "data": {
      "image/png": "[encoded data removed]",
      "text/plain": [
       "<Figure size 432x288 with 1 Axes>"
      ]
     },
     "metadata": {
      "needs_background": "light"
     },
     "output_type": "display_data"
    }
   ],
   "source": [
    "# create stopword list & wordcloud:\n",
    "stops = set(stopwords.words('english') + list(string.punctuation))\n",
    "stops.add(\"amp\")\n",
    "stops.add(\"…\")\n",
    "stops.add(\"’\")\n",
    "stops.add(\"“\")\n",
    "stops.add(\"”\")\n",
    "textt = \" \".join(tweet for tweet in df[\"cleaned_text\"])\n",
    "wordcloud = WordCloud(stopwords=stops).generate(textt)\n",
    "plt.imshow(wordcloud, interpolation='bilinear')\n",
    "plt.axis(\"off\")\n",
    "plt.show()"
   ]
  },
  {
   "cell_type": "code",
   "execution_count": 20,
   "metadata": {},
   "outputs": [
    {
     "data": {
      "text/plain": [
       "[(('woke', 'mind', 'virus'), 6),\n",
       " (('make', 'life', 'multiplanetary'), 6),\n",
       " (('Tesla', 'AI', 'Day'), 6),\n",
       " (('The', 'New', 'York'), 5),\n",
       " (('New', 'York', 'Times'), 5),\n",
       " (('result', 'account', 'suspension'), 5),\n",
       " (('needed', 'make', 'life'), 4),\n",
       " (('The', 'Twitter', 'Files'), 4),\n",
       " (('I', 'think', 'I'), 4),\n",
       " (('free', 'speech', 'America'), 4)]"
      ]
     },
     "execution_count": 20,
     "metadata": {},
     "output_type": "execute_result"
    }
   ],
   "source": [
    "all_tweets = df[\"cleaned_text\"].str.cat(sep=\" \").strip()\n",
    "words: list[str] = [w for w in nltk.word_tokenize(all_tweets) if w not in stops]\n",
    "fd = nltk.FreqDist(words)\n",
    "fd.most_common(10)\n",
    "\n",
    "finder = nltk.collocations.TrigramCollocationFinder.from_words(words)\n",
    "finder.ngram_fd.most_common(10)"
   ]
  },
  {
   "cell_type": "code",
   "execution_count": 21,
   "metadata": {},
   "outputs": [],
   "source": [
    "from nltk.sentiment import SentimentIntensityAnalyzer\n",
    "sia = SentimentIntensityAnalyzer()\n",
    "\n",
    "scores = df[\"cleaned_text\"].apply(lambda x: sia.polarity_scores(x)[\"compound\"])\n",
    "\n",
    "df[\"neg\"] = scores.apply(lambda x: 1 if x < -0.05 else 0)\n",
    "df[\"neu\"] = scores.apply(lambda x: 1 if x >= -0.05 and x <= 0.05 else 0)\n",
    "df[\"pos\"] = scores.apply(lambda x: 1 if x > 0.05 else 0)"
   ]
  },
  {
   "cell_type": "code",
   "execution_count": 22,
   "metadata": {},
   "outputs": [
    {
     "data": {
      "image/png": "[encoded data removed]",
      "text/plain": [
       "<Figure size 432x288 with 1 Axes>"
      ]
     },
     "metadata": {
      "needs_background": "light"
     },
     "output_type": "display_data"
    }
   ],
   "source": [
    "values = [df[\"neg\"].sum(), df[\"neu\"].sum(), df[\"pos\"].sum()]\n",
    "plt.bar(x=[\"Negative\", \"Neutral\", \"Positive\"], height=values)\n",
    "plt.title(\"Sentiment of Elon Musk's Tweets in 2022\")\n",
    "plt.xlabel(\"Sentiment\")\n",
    "plt.ylabel(\"Number of Tweets\")\n",
    "plt.show()"
   ]
  },
  {
   "cell_type": "code",
   "execution_count": 26,
   "metadata": {},
   "outputs": [
    {
     "data": {
      "image/png": "[encoded data removed]",
      "text/plain": [
       "<Figure size 1080x720 with 1 Axes>"
      ]
     },
     "metadata": {
      "needs_background": "light"
     },
     "output_type": "display_data"
    }
   ],
   "source": [
    "labels = ['January','February','March','April','May','June','July','August','September','October','November','December']\n",
    "pos = [0]*12\n",
    "neg = [0]*12\n",
    "neutral = [0]*12\n",
    "for index, row in df.iterrows():\n",
    "    date = int(row['date'].month)\n",
    "    if row['pos'] == 1:\n",
    "        pos[date - 1] = pos[date - 1] + 1\n",
    "    elif row['neg'] == 1:\n",
    "        neg[date - 1] = neg[date - 1] + 1\n",
    "    elif row['neu'] == 1:\n",
    "        neutral[date - 1] = neutral[date - 1] + 1\n",
    "\n",
    "x = np.arange(len(labels))  # the label locations\n",
    "width = 0.3  # the width of the bars\n",
    "\n",
    "fig, ax = plt.subplots()\n",
    "fig.set_figheight(10)\n",
    "fig.set_figwidth(15)\n",
    "rects1 = ax.bar(x - width, neg, width, label='Negative', color='red')\n",
    "rects2 = ax.bar(x, neutral, width, label='Neutral', color='blue')\n",
    "rects3 = ax.bar(x + width, pos, width, label='Positive', color='green')\n",
    "\n",
    "# Add some text for labels, title and custom x-axis tick labels, etc.\n",
    "ax.set_ylabel('Tweets')\n",
    "ax.set_title('Sentiment Analysis')\n",
    "ax.set_xticks(x, labels)\n",
    "ax.legend()\n",
    "\n",
    "ax.bar_label(rects1, padding=3)\n",
    "ax.bar_label(rects2, padding=3)\n",
    "ax.bar_label(rects3, padding=3)\n",
    "\n",
    "plt.show()"
   ]
  },
  {
   "cell_type": "code",
   "execution_count": 27,
   "metadata": {},
   "outputs": [
    {
     "data": {
      "image/png": "[encoded data removed]",
      "text/plain": [
       "<Figure size 1080x720 with 1 Axes>"
      ]
     },
     "metadata": {
      "needs_background": "light"
     },
     "output_type": "display_data"
    }
   ],
   "source": [
    "labels = ['January','February','March','April','May','June','July','August','September','October','November','December']\n",
    "total = [0]*12\n",
    "for index in range(0,len(pos)):\n",
    "    total[index] = pos[index] + neg[index] + neutral[index]\n",
    "    pos[index] = float(pos[index])/total[index]\n",
    "    neg[index] = float(neg[index])/total[index]\n",
    "    neutral[index] = float(neutral[index])/total[index]\n",
    "\n",
    "x = np.arange(len(labels))  # the label locations\n",
    "width = 0.3  # the width of the bars\n",
    "\n",
    "fig, ax = plt.subplots()\n",
    "fig.set_figheight(10)\n",
    "fig.set_figwidth(15)\n",
    "\n",
    "rand = [0]*12\n",
    "for index in range(0,len(pos)):\n",
    "    rand[index] = neg[index]+neutral[index]\n",
    "plt.bar(x, neg, color='r')\n",
    "plt.bar(x, neutral, bottom=neg, color='b')\n",
    "plt.bar(x, pos, bottom=rand,color='g')\n",
    "\n",
    "# Add some text for labels, title and custom x-axis tick labels, etc.\n",
    "plt.ylabel('Tweets')\n",
    "plt.title('Sentiment Analysis')\n",
    "plt.xticks(x, labels)\n",
    "plt.legend(['Negative','Neutral','Positive'])\n",
    "\n",
    "plt.show()"
   ]
  },
  {
   "cell_type": "code",
   "execution_count": 28,
   "metadata": {},
   "outputs": [
    {
     "name": "stdout",
     "output_type": "stream",
     "text": [
      "['January', 'February', 'March', 'April', 'May', 'June', 'July', 'August', 'September', 'October', 'November', 'December']\n",
      "[0.3404255319148936, 0.4380952380952381, 0.45089285714285715, 0.45255474452554745, 0.45904761904761904, 0.46885245901639344, 0.4200743494423792, 0.4230769230769231, 0.43722943722943725, 0.3652173913043478, 0.36293859649122806, 0.4065281899109792]\n",
      "[0.1702127659574468, 0.1619047619047619, 0.17857142857142858, 0.20072992700729927, 0.18666666666666668, 0.14426229508196722, 0.17472118959107807, 0.15384615384615385, 0.12554112554112554, 0.17608695652173914, 0.15899122807017543, 0.1572700296735905]\n",
      "[0.48936170212765956, 0.4, 0.3705357142857143, 0.3467153284671533, 0.35428571428571426, 0.38688524590163936, 0.4052044609665427, 0.4230769230769231, 0.43722943722943725, 0.45869565217391306, 0.4780701754385965, 0.4362017804154303]\n"
     ]
    }
   ],
   "source": [
    "print(labels)\n",
    "print(pos)\n",
    "print(neg)\n",
    "print(neutral)"
   ]
  },
  {
   "cell_type": "code",
   "execution_count": 29,
   "metadata": {},
   "outputs": [
    {
     "name": "stderr",
     "output_type": "stream",
     "text": [
      "No artists with labels found to put in legend.  Note that artists whose label start with an underscore are ignored when legend() is called with no argument.\n"
     ]
    },
    {
     "data": {
      "image/png": "[encoded data removed]",
      "text/plain": [
       "<Figure size 576x432 with 1 Axes>"
      ]
     },
     "metadata": {
      "needs_background": "light"
     },
     "output_type": "display_data"
    }
   ],
   "source": [
    "# Hypothesis testing:\n",
    "# Null: There is no statistically difference between the sentient of Elon Musk's tweets during the period when he joined Twitter's board of directors and when he announced the finalization of acquiring Twitter.\n",
    "# Alternate: There is a statistically difference between the sentient of Elon Musk's tweets during the period when he joined Twitter's board of directors and when he announced the finalization of acquiring Twitter.\n",
    "df_test1 = df[(df[\"date\"] >= dt(2022, 3, 28)) & (df[\"date\"] <= dt(2022, 4, 25))]\n",
    "df_test2 = df[(df[\"date\"] >= dt(2022, 10, 21)) & (df[\"date\"] <= dt(2022, 11, 18))]\n",
    "\n",
    "neg = list()\n",
    "pos = list()\n",
    "neu = list()\n",
    "for d in [df_test1,df_test2]:\n",
    "    neg_val = d.groupby(by=['neg']).count()\n",
    "    pos_val = d.groupby(by=['pos']).count()\n",
    "    neu_val = d.groupby(by=['neu']).count()\n",
    "    neg.append(neg_val['text'][1])\n",
    "    pos.append(pos_val['text'][1])\n",
    "    neu.append(neu_val['text'][1])\n",
    "\n",
    "labels = ['G1','G2']\n",
    "x = np.arange(len(labels))  # the label locations\n",
    "width = 0.3  # the width of the bars\n",
    "\n",
    "fig, ax = plt.subplots()\n",
    "fig.set_figheight(6)\n",
    "fig.set_figwidth(8)\n",
    "\n",
    "# Add some text for labels, title and custom x-axis tick labels, etc.\n",
    "ax.set_ylabel('Tweets')\n",
    "ax.set_title('Sentiment Analysis')\n",
    "ax.set_xticks(x, labels)\n",
    "ax.legend()\n",
    "\n",
    "rects1 = ax.bar(x - width, neg, width, label='Negative', color='red')\n",
    "rects2 = ax.bar(x, neu, width, label='Neutral', color='blue')\n",
    "rects3 = ax.bar(x + width, pos, width, label='Positive', color='green')\n",
    "ax.bar_label(rects1, padding=3)\n",
    "ax.bar_label(rects2, padding=3)\n",
    "ax.bar_label(rects3, padding=3)\n",
    "\n",
    "plt.show()"
   ]
  }
 ],
 "metadata": {
  "kernelspec": {
   "display_name": "Python 3.10.4 64-bit",
   "language": "python",
   "name": "python3"
  },
  "language_info": {
   "codemirror_mode": {
    "name": "ipython",
    "version": 3
   },
   "file_extension": ".py",
   "mimetype": "text/x-python",
   "name": "python",
   "nbconvert_exporter": "python",
   "pygments_lexer": "ipython3",
   "version": "3.10.4"
  },
  "orig_nbformat": 4,
  "vscode": {
   "interpreter": {
    "hash": "aee8b7b246df8f9039afb4144a1f6fd8d2ca17a180786b69acc140d282b71a49"
   }
  }
 },
 "nbformat": 4,
 "nbformat_minor": 2
}
